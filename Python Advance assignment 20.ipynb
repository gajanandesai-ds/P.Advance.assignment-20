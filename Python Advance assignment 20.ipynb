{
 "cells": [
  {
   "cell_type": "raw",
   "id": "cd9bd644",
   "metadata": {},
   "source": [
    "1. Compare and contrast the float and Decimal classes benefits and drawbacks."
   ]
  },
  {
   "cell_type": "raw",
   "id": "9fadaa7e",
   "metadata": {},
   "source": [
    "ans: Float store an approximate value and deicimal store an exact value. In summary exact values like money should use deciamal, and approximate value like scientific measurements should use float. when multiflying a non integer and divideing by the same numbers, decimal lose  precision while floats do not."
   ]
  },
  {
   "cell_type": "code",
   "execution_count": null,
   "id": "602b2e79",
   "metadata": {},
   "outputs": [],
   "source": []
  },
  {
   "cell_type": "code",
   "execution_count": null,
   "id": "3b466dc9",
   "metadata": {},
   "outputs": [],
   "source": []
  },
  {
   "cell_type": "raw",
   "id": "4748fa11",
   "metadata": {},
   "source": [
    "2. Decimal(1.200) and Decimal(1.2) are two objects to consider. In what sense are these the same\n",
    "object? Are these just two ways of representing the exact same value, or do they correspond to\n",
    "different internal states?"
   ]
  },
  {
   "cell_type": "raw",
   "id": "dbf5389f",
   "metadata": {},
   "source": [
    "ans: The output of both odd them will be same this is a just way off represinting precision upto 3 decimal points basic mathametics cn be seen here in below example the decimal class while outputing the result run off the value to 1.2  from 1.200"
   ]
  },
  {
   "cell_type": "code",
   "execution_count": 3,
   "id": "303a9841",
   "metadata": {},
   "outputs": [
    {
     "name": "stdout",
     "output_type": "stream",
     "text": [
      "1.2 1.2\n"
     ]
    }
   ],
   "source": [
    "c= 1.200\n",
    "d = 1.2\n",
    "print(c,d)"
   ]
  },
  {
   "cell_type": "code",
   "execution_count": null,
   "id": "a20736fd",
   "metadata": {},
   "outputs": [],
   "source": []
  },
  {
   "cell_type": "raw",
   "id": "8f03eda9",
   "metadata": {},
   "source": [
    "3. What happens if the equality of Decimal(1.200) and Decimal(1.2) is checked?"
   ]
  },
  {
   "cell_type": "raw",
   "id": "c893b12d",
   "metadata": {},
   "source": [
    "Float stores an approximate value and decimal stores an exact value."
   ]
  },
  {
   "cell_type": "code",
   "execution_count": 2,
   "id": "ca263ff8",
   "metadata": {},
   "outputs": [
    {
     "name": "stdout",
     "output_type": "stream",
     "text": [
      "1.2 1.2\n",
      "<class 'float'>\n"
     ]
    }
   ],
   "source": [
    "c = 1.200\n",
    "d = 1.2\n",
    "if c == d:\n",
    "    print(c,d)\n",
    "\n",
    "print(type(c))"
   ]
  },
  {
   "cell_type": "code",
   "execution_count": null,
   "id": "dbb9505f",
   "metadata": {},
   "outputs": [],
   "source": []
  },
  {
   "cell_type": "code",
   "execution_count": null,
   "id": "7b2864c6",
   "metadata": {},
   "outputs": [],
   "source": []
  },
  {
   "cell_type": "raw",
   "id": "8f623809",
   "metadata": {},
   "source": [
    "4. Why is it preferable to start a Decimal object with a string rather than a floating-point value?"
   ]
  },
  {
   "cell_type": "raw",
   "id": "7d92987c",
   "metadata": {},
   "source": [
    "ans: Beacuse using floats for currency will just cause errror own the road. floats are not usable for representing real world value like money- not reliably, anyways."
   ]
  },
  {
   "cell_type": "code",
   "execution_count": 8,
   "id": "e7a3e48b",
   "metadata": {},
   "outputs": [
    {
     "name": "stdout",
     "output_type": "stream",
     "text": [
      "0.1111111\n",
      "0.111111111111111111111111111111\n"
     ]
    }
   ],
   "source": [
    "from decimal import *\n",
    "getcontext().prec = 7\n",
    "print(Decimal(1)/Decimal(9))\n",
    "getcontext().prec = 30\n",
    "print(Decimal(1)/Decimal(9))"
   ]
  },
  {
   "cell_type": "code",
   "execution_count": null,
   "id": "d1b64cf3",
   "metadata": {},
   "outputs": [],
   "source": []
  },
  {
   "cell_type": "code",
   "execution_count": null,
   "id": "4346cc63",
   "metadata": {},
   "outputs": [],
   "source": []
  },
  {
   "cell_type": "raw",
   "id": "c1d13745",
   "metadata": {},
   "source": [
    "5. In an arithmetic phrase, how simple is it to combine Decimal objects with integers?"
   ]
  },
  {
   "cell_type": "code",
   "execution_count": 9,
   "id": "13f0a1ad",
   "metadata": {},
   "outputs": [
    {
     "data": {
      "text/plain": [
       "1.8"
      ]
     },
     "execution_count": 9,
     "metadata": {},
     "output_type": "execute_result"
    }
   ],
   "source": [
    ".8 + 1"
   ]
  },
  {
   "cell_type": "code",
   "execution_count": null,
   "id": "3f129f05",
   "metadata": {},
   "outputs": [],
   "source": []
  },
  {
   "cell_type": "code",
   "execution_count": null,
   "id": "df3a840d",
   "metadata": {},
   "outputs": [],
   "source": []
  },
  {
   "cell_type": "raw",
   "id": "e441adac",
   "metadata": {},
   "source": [
    "6. Can Decimal objects and floating-point values be combined easily?"
   ]
  },
  {
   "cell_type": "raw",
   "id": "e8e95e8d",
   "metadata": {},
   "source": [
    "ans: Decimal objects cannot generally be combined with floats or instances of fractions."
   ]
  },
  {
   "cell_type": "code",
   "execution_count": null,
   "id": "8bcf1005",
   "metadata": {},
   "outputs": [],
   "source": []
  },
  {
   "cell_type": "code",
   "execution_count": null,
   "id": "d1e281bc",
   "metadata": {},
   "outputs": [],
   "source": []
  },
  {
   "cell_type": "raw",
   "id": "3d349443",
   "metadata": {},
   "source": [
    "7. Using the Fraction class but not the Decimal class, give an example of a quantity that can be\n",
    "expressed with absolute precision."
   ]
  },
  {
   "cell_type": "code",
   "execution_count": 16,
   "id": "40d317a1",
   "metadata": {},
   "outputs": [
    {
     "name": "stdout",
     "output_type": "stream",
     "text": [
      "1/3\n",
      "3/5\n",
      "0\n"
     ]
    }
   ],
   "source": [
    "from fractions import Fraction\n",
    "print(Fraction(12,36))\n",
    "print(Fraction(12,20))\n",
    "print(Fraction(0,1))"
   ]
  },
  {
   "cell_type": "code",
   "execution_count": null,
   "id": "3055ab1d",
   "metadata": {},
   "outputs": [],
   "source": []
  },
  {
   "cell_type": "code",
   "execution_count": null,
   "id": "d79a8130",
   "metadata": {},
   "outputs": [],
   "source": []
  },
  {
   "cell_type": "raw",
   "id": "a5e61def",
   "metadata": {},
   "source": [
    "8. Describe a quantity that can be accurately expressed by the Decimal or Fraction classes but not by\n",
    "a floating-point value."
   ]
  },
  {
   "cell_type": "raw",
   "id": "5f31223d",
   "metadata": {},
   "source": [
    "ans: 0.00011 is a finite representation of an infinite number of digits. That doesnt help us with floating-point.\n",
    "Floating-point does not represent numbers using repeat bars, it represents them with a fixed number of bits it can be reprsented by decimal or fraction class."
   ]
  },
  {
   "cell_type": "code",
   "execution_count": null,
   "id": "63b1cdcc",
   "metadata": {},
   "outputs": [],
   "source": []
  },
  {
   "cell_type": "code",
   "execution_count": null,
   "id": "d11cf965",
   "metadata": {},
   "outputs": [],
   "source": []
  },
  {
   "cell_type": "raw",
   "id": "b7728cc8",
   "metadata": {},
   "source": [
    "Q9.Consider the following two fraction objects: Fraction(1, 2) and Fraction(1, 2). (5, 10). Is the internal\n",
    "state of these two objects the same? Why do you think that is?"
   ]
  },
  {
   "cell_type": "raw",
   "id": "04de77b9",
   "metadata": {},
   "source": [
    "ans: the internal state is same will give fraction of 1/2"
   ]
  },
  {
   "cell_type": "code",
   "execution_count": null,
   "id": "aed35f37",
   "metadata": {},
   "outputs": [],
   "source": []
  },
  {
   "cell_type": "code",
   "execution_count": null,
   "id": "3f0b109e",
   "metadata": {},
   "outputs": [],
   "source": []
  },
  {
   "cell_type": "raw",
   "id": "f04b5f72",
   "metadata": {},
   "source": [
    "Q10. How do the Fraction class and the integer type (int) relate to each other? Containment or\n",
    "inheritance?"
   ]
  },
  {
   "cell_type": "raw",
   "id": "fc473f08",
   "metadata": {},
   "source": [
    "ans: Inheritance."
   ]
  },
  {
   "cell_type": "code",
   "execution_count": null,
   "id": "1fea51d6",
   "metadata": {},
   "outputs": [],
   "source": []
  },
  {
   "cell_type": "code",
   "execution_count": null,
   "id": "fcb57a9c",
   "metadata": {},
   "outputs": [],
   "source": []
  },
  {
   "cell_type": "code",
   "execution_count": null,
   "id": "fbae8c88",
   "metadata": {},
   "outputs": [],
   "source": []
  }
 ],
 "metadata": {
  "kernelspec": {
   "display_name": "Python 3",
   "language": "python",
   "name": "python3"
  },
  "language_info": {
   "codemirror_mode": {
    "name": "ipython",
    "version": 3
   },
   "file_extension": ".py",
   "mimetype": "text/x-python",
   "name": "python",
   "nbconvert_exporter": "python",
   "pygments_lexer": "ipython3",
   "version": "3.8.8"
  }
 },
 "nbformat": 4,
 "nbformat_minor": 5
}
